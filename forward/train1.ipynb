{
 "cells": [
  {
   "cell_type": "code",
   "execution_count": 15,
   "id": "7f1db992-19e7-45c9-96d0-7cbcd03fe281",
   "metadata": {},
   "outputs": [
    {
     "name": "stdout",
     "output_type": "stream",
     "text": [
      "The autoreload extension is already loaded. To reload it, use:\n",
      "  %reload_ext autoreload\n"
     ]
    }
   ],
   "source": [
    "%load_ext autoreload\n",
    "%autoreload 2"
   ]
  },
  {
   "cell_type": "code",
   "execution_count": 16,
   "id": "d74d9890",
   "metadata": {},
   "outputs": [],
   "source": [
    "import torch\n",
    "import torch.utils.data as Data\n",
    "from torch import nn\n",
    "from torch.nn import functional as F\n",
    "# import matplotlib.pyplot as plt\n",
    "import time\n",
    "import sys\n",
    "import scipy\n",
    "from utilities import *\n",
    "from models import *\n",
    "from timeit import default_timer\n",
    "import numpy as np\n",
    "\n",
    "from Adam import Adam"
   ]
  },
  {
   "cell_type": "code",
   "execution_count": 17,
   "id": "6856896e-faf1-4b4b-81df-c22210a56426",
   "metadata": {},
   "outputs": [],
   "source": [
    "device = torch.device('cuda:0' if torch.cuda.is_available() else 'cpu')\n",
    "SEED_SET(1)"
   ]
  },
  {
   "cell_type": "code",
   "execution_count": 18,
   "id": "bc0a9502-69af-480c-920b-3ac703907979",
   "metadata": {},
   "outputs": [],
   "source": [
    "operator = 'nqf' # f, qf, nqf\n",
    "# if operator == 'f':\n",
    "#     neumann_test = True\n",
    "\n",
    "model_type = 'UNO' # FNO, UNO\n",
    "\n",
    "DC_in = True\n",
    "FNO_act = 'gelu'\n",
    "CNN_act = 'gelu'\n",
    "\n",
    "times = 1\n",
    "\n",
    "data_weight = 1\n",
    "PINN_weight = 0.05\n",
    "\n",
    "num_layer = 3\n",
    "\n",
    "data_name = 'qT_01_fGRF_23_k20'\n",
    "\n",
    "data_train_name = './data1/ftrain_' + data_name + '.npz'\n",
    "data_test_name = './data1/ftest_' + data_name + '.npz'\n",
    "\n",
    "f_real = True"
   ]
  },
  {
   "cell_type": "code",
   "execution_count": 19,
   "id": "ef5c4552-b9f3-4450-aa2b-7c0326a1ad71",
   "metadata": {},
   "outputs": [],
   "source": [
    "save_model = True\n",
    "if save_model:\n",
    "    filename_model = model_type + '_' + operator + '_' + data_name + '_256_dw1_pw005_git1.pth'\n",
    "    filename_data = model_type + '_' + operator + '_' + data_name + '_256_dw1_pw005_git1.npz'"
   ]
  },
  {
   "cell_type": "code",
   "execution_count": 20,
   "id": "40109d08-5646-4b37-b6aa-4edd197b7f1e",
   "metadata": {},
   "outputs": [
    {
     "name": "stdout",
     "output_type": "stream",
     "text": [
      "torch.Size([1000, 2, 257, 257])\n",
      "torch.Size([1000, 2, 257, 257])\n",
      "torch.Size([100, 2, 257, 257])\n",
      "torch.Size([100, 2, 257, 257])\n"
     ]
    }
   ],
   "source": [
    "# load data\n",
    "if operator == 'qf':\n",
    "    if f_real:\n",
    "        cin = 2\n",
    "    else:\n",
    "        cin = 3\n",
    "else:\n",
    "    if f_real:\n",
    "        cin = 1\n",
    "    else:\n",
    "        cin = 2\n",
    "\n",
    "# k, N_sample, N, x_train, y_train, ini = load_data(data_train_name, times, operator, f_real, device)\n",
    "# k, N_test, N, x_test, y_test, ini_test = load_data(data_test_name, times, operator, f_real, device)\n",
    "\n",
    "k, N_sample, N, x_train, y_train = load_data(data_train_name, times, operator, f_real, device)\n",
    "k, N_test, N, x_test, y_test = load_data(data_test_name, times, operator, f_real, device)\n",
    "\n",
    "print(x_train.shape)\n",
    "print(y_train.shape)\n",
    "print(x_test.shape)\n",
    "print(y_test.shape)"
   ]
  },
  {
   "cell_type": "code",
   "execution_count": 21,
   "id": "98050778-92b7-47c8-9c25-5df903714b4e",
   "metadata": {},
   "outputs": [],
   "source": [
    "Batch_size = 20\n",
    "\n",
    "train_data = Data.TensorDataset(x_train, y_train)\n",
    "N_Batch = N_sample/Batch_size\n",
    "train_loader = Data.DataLoader(dataset = train_data, batch_size = Batch_size, shuffle = False)\n",
    "\n",
    "test_data = Data.TensorDataset(x_test, y_test)\n",
    "N_Batch = N_test/Batch_size\n",
    "test_loader = Data.DataLoader(dataset = test_data, batch_size = Batch_size, shuffle = False)"
   ]
  },
  {
   "cell_type": "code",
   "execution_count": 22,
   "id": "1971cff8-f02d-44c0-bce4-5e3cc67aaa09",
   "metadata": {},
   "outputs": [
    {
     "name": "stdout",
     "output_type": "stream",
     "text": [
      "Total number of paramerters in networks is 3558813  \n"
     ]
    }
   ],
   "source": [
    "modes = 12\n",
    "width = 32\n",
    "\n",
    "if model_type == 'FNO':\n",
    "    if operator == 'nqf':\n",
    "        model = Neumann_FNO(N, k, modes1 = modes, modes2 = modes, width = width, FNO_act = FNO_act, CNN_act = CNN_act, DC_in = DC_in).to(device)\n",
    "    else:\n",
    "        model = FNO2d(modes1 = modes, modes2 = modes, width = width, FNO_act = FNO_act, CNN_act = CNN_act, DC_in = DC_in, cin = cin).to(device)\n",
    "else:\n",
    "    if operator == 'nqf':\n",
    "        model = Neumann_MyUNO(N, k, modes1 = modes, modes2 = modes, width = width, FNO_act = FNO_act, CNN_act = CNN_act, num_layer = num_layer, DC_in = DC_in).to(device)\n",
    "    else:\n",
    "        model = MyUNO(N, k, modes1 = modes, modes2 = modes, width = width, FNO_act = FNO_act, CNN_act = CNN_act, DC_in = DC_in, num_layer = num_layer, cin = cin).to(device)\n",
    "\n",
    "print(\"Total number of paramerters in networks is {}  \".format(sum(x.numel() for x in model.parameters())))"
   ]
  },
  {
   "cell_type": "code",
   "execution_count": 23,
   "id": "a7166f67-4ebb-4603-9694-8baaf884bad5",
   "metadata": {},
   "outputs": [],
   "source": [
    "epochs = 500\n",
    "step_size = 100\n",
    "\n",
    "gamma = 0.5\n",
    "lr = 0.001\n",
    "\n",
    "optimizer = Adam(model.parameters(), lr=lr, weight_decay=1e-4)\n",
    "scheduler = torch.optim.lr_scheduler.StepLR(optimizer, step_size=step_size, gamma=gamma)\n",
    "\n",
    "# start_lr = 2e-3\n",
    "# end_lr = 1e-5\n",
    "# optimizer = torch.optim.Adam(model.parameters(), lr=start_lr, betas=(0.9, 0.999), eps=1e-8)\n",
    "# scheduler = torch.optim.lr_scheduler.CosineAnnealingLR(optimizer, epochs, eta_min=end_lr)"
   ]
  },
  {
   "cell_type": "code",
   "execution_count": 24,
   "id": "453a3772-569b-4670-8fc4-4ba4ce5d30c7",
   "metadata": {},
   "outputs": [
    {
     "name": "stdout",
     "output_type": "stream",
     "text": [
      "Epoch [1/100], train: 1.0307, PINN_train: 11.0486, test: 0.9728, PINN_test: 1.62, Time per epoch: 8.8207\n",
      "Epoch [10/100], train: 0.4875, PINN_train: 1.6972, test: 0.4793, PINN_test: 1.652, Time per epoch: 7.3774\n",
      "Epoch [20/100], train: 0.1993, PINN_train: 1.2977, test: 0.1952, PINN_test: 1.382, Time per epoch: 6.5545\n",
      "Epoch [30/100], train: 0.1174, PINN_train: 0.9884, test: 0.1193, PINN_test: 0.995, Time per epoch: 6.4912\n",
      "Epoch [40/100], train: 0.0666, PINN_train: 0.8434, test: 0.07289, PINN_test: 0.8574, Time per epoch: 6.4060\n",
      "Epoch [50/100], train: 0.0536, PINN_train: 0.7018, test: 0.05614, PINN_test: 0.7252, Time per epoch: 7.0325\n",
      "Epoch [60/100], train: 0.0413, PINN_train: 0.5936, test: 0.04694, PINN_test: 0.6126, Time per epoch: 7.5037\n",
      "Epoch [70/100], train: 0.0401, PINN_train: 0.5722, test: 0.04716, PINN_test: 0.5731, Time per epoch: 6.5641\n",
      "Epoch [80/100], train: 0.0336, PINN_train: 0.5266, test: 0.03864, PINN_test: 0.557, Time per epoch: 6.4670\n",
      "Epoch [90/100], train: 0.0328, PINN_train: 0.4943, test: 0.04036, PINN_test: 0.5383, Time per epoch: 6.3096\n",
      "Epoch [100/100], train: 0.0301, PINN_train: 0.4881, test: 0.03668, PINN_test: 0.5689, Time per epoch: 6.6301\n"
     ]
    }
   ],
   "source": [
    "train_er, test_er, PINN_train_er, PINN_test_er = train_model_PINN(train_loader, test_loader, model, epochs, optimizer, scheduler, N, k,\n",
    "                                                                  operator = operator, data_weight = data_weight, PINN_weight = PINN_weight)"
   ]
  },
  {
   "cell_type": "code",
   "execution_count": 25,
   "id": "939a52ce-c27d-4e2c-936d-9950701f8883",
   "metadata": {},
   "outputs": [
    {
     "name": "stdout",
     "output_type": "stream",
     "text": [
      "ave_train_error:  0.03022108054161072\n",
      "ave_test_error:  0.0366783618927002\n"
     ]
    }
   ],
   "source": [
    "ave_train_error, ave_test_error = model_test(train_loader, test_loader, model)\n",
    "\n",
    "print('ave_train_error: ', ave_train_error)\n",
    "print('ave_test_error: ', ave_test_error)"
   ]
  },
  {
   "cell_type": "code",
   "execution_count": 26,
   "id": "21950498-9456-4c0e-90a4-865dcae1366f",
   "metadata": {},
   "outputs": [],
   "source": [
    "if save_model:\n",
    "    model = model.cpu()\n",
    "    torch.save(model.state_dict(), filename_model)\n",
    "\n",
    "    np.savez(filename_data, width=width, modes=modes, times=times, operator=operator, model_type=model_type,\n",
    "             FNO_act=FNO_act, CNN_act=CNN_act, cin=cin, f_real=f_real, DC_in=DC_in,\n",
    "             Batch_size=Batch_size, step_size=step_size, gamma=gamma, learning_rate=lr, epochs=epochs,\n",
    "             data_weight=data_weight, PINN_weight=PINN_weight, num_layer=num_layer,\n",
    "             train_er=train_er, test_er=test_er, PINN_train_er=PINN_train_er, PINN_test_er=PINN_test_er,\n",
    "             ave_train_error=ave_train_error, ave_test_error=ave_test_error)"
   ]
  },
  {
   "cell_type": "markdown",
   "id": "d52d7c20-b6d7-4540-9e8d-8284cef07f87",
   "metadata": {},
   "source": [
    "### "
   ]
  }
 ],
 "metadata": {
  "kernelspec": {
   "display_name": "Python 3 (ipykernel)",
   "language": "python",
   "name": "python3"
  },
  "language_info": {
   "codemirror_mode": {
    "name": "ipython",
    "version": 3
   },
   "file_extension": ".py",
   "mimetype": "text/x-python",
   "name": "python",
   "nbconvert_exporter": "python",
   "pygments_lexer": "ipython3",
   "version": "3.9.18"
  }
 },
 "nbformat": 4,
 "nbformat_minor": 5
}
